{
 "cells": [
  {
   "cell_type": "code",
   "execution_count": 19,
   "id": "88d4e5a7",
   "metadata": {},
   "outputs": [],
   "source": [
    "import numpy as np\n",
    "from dataset import training_pixels, training_labels, test_pixels\n",
    "from PIL import Image\n",
    "import matplotlib.pyplot as plt\n",
    "\n",
    "learning_rate = 0.05\n",
    "np.random.seed(0)\n"
   ]
  },
  {
   "cell_type": "code",
   "execution_count": 20,
   "id": "d60f1c3d",
   "metadata": {},
   "outputs": [
    {
     "data": {
      "image/png": "[encoded data removed]",
      "text/plain": [
       "<Figure size 640x480 with 1 Axes>"
      ]
     },
     "metadata": {},
     "output_type": "display_data"
    }
   ],
   "source": [
    "sample_image = training_pixels[18].reshape(28, 28)  \n",
    "\n",
    "\n",
    "plt.imshow(sample_image, cmap='gray')  \n",
    "plt.title(f'Label: {training_labels[318]}')  \n",
    "plt.show()\n"
   ]
  },
  {
   "cell_type": "code",
   "execution_count": 21,
   "id": "f25c09dc",
   "metadata": {},
   "outputs": [],
   "source": [
    "def cost(a, y):\n",
    "    return (1/2)*((a-y)**2)\n",
    "\n",
    "def cross_entropy_loss(y_pred, y_true):\n",
    "    return -np.sum(y_true * np.log(y_pred))\n",
    "\n",
    "\n",
    "def sigmoid(x):\n",
    "  return 1/(1+np.exp(-x))\n",
    "\n",
    "def sigmoid_derivative(x):\n",
    "  return sigmoid(x) * (1- sigmoid(x))\n",
    "\n",
    "def softmax(x):\n",
    "    \n",
    "    e_x = np.exp(x - np.max(x))\n",
    "    return e_x / e_x.sum(axis=0)\n",
    "\n",
    "def load_and_preprocess_image(filepath):\n",
    "    image = Image.open(filepath).convert('L')\n",
    "    image = image.resize((28, 28))\n",
    "    image_array = np.array(image)/255.0\n",
    "    #image_array = 1 - image_array  # Ligne à commenter si les chiffres sont noirs sur blanc\n",
    "    image_array = image_array.reshape(784, 1)\n",
    "    return image_array"
   ]
  },
  {
   "cell_type": "code",
   "execution_count": 22,
   "id": "263db30b",
   "metadata": {},
   "outputs": [
    {
     "name": "stdout",
     "output_type": "stream",
     "text": [
      "Epoch 0, Loss: 1.9989277355884805\n",
      "Epoch 1, Loss: 1.5805022589591058\n",
      "Epoch 2, Loss: 0.822835304504689\n",
      "Epoch 3, Loss: 0.4233025069218784\n",
      "Epoch 4, Loss: 0.29933196082590297\n",
      "Epoch 5, Loss: 0.2296863710265824\n",
      "Epoch 6, Loss: 0.18408057072187642\n",
      "Epoch 7, Loss: 0.1486529993915378\n",
      "Epoch 8, Loss: 0.12002067466600108\n",
      "Epoch 9, Loss: 0.09733709548038345\n"
     ]
    }
   ],
   "source": [
    "\n",
    "\n",
    "\n",
    "\n",
    "\n",
    "w1 = np.random.rand(200, 784) * 0.01\n",
    "b1 = np.random.rand(200, 1)* 0.01\n",
    "\n",
    "w2 = np.random.rand(80, 200)* 0.01\n",
    "b2 = np.random.rand(80, 1)* 0.01\n",
    "\n",
    "\n",
    "w3 = np.random.rand(10, 80)* 0.01\n",
    "b3 = np.random.rand(10, 1)* 0.01\n",
    "\n",
    "\n",
    "\n",
    "train_input = training_pixels[:10000]\n",
    "train_output = training_labels[:10000]\n",
    "\n",
    "test_input = test_pixels[10000:12500]\n",
    "\n",
    "\n",
    "\n",
    "\n",
    "\n",
    "for j in range(0, 10):\n",
    "    total_loss = 0\n",
    "    for i in range(len(train_input)):\n",
    "        X = train_input[i].reshape(784,1) #(784x1)\n",
    "        Y = train_output[i].reshape(10, 1) #(10x1)\n",
    "        \n",
    "        \n",
    "        #forward propagation\n",
    "        z1 = w1.dot(X)+b1; # ((200x784) . (784x1)) + (200x1) = (200x1)   \n",
    "        a1 = sigmoid(z1) # (200x1)\n",
    "        z2 = w2.dot(a1)+b2 # (80x200) . (200x1) + (80x1) = (80x1)\n",
    "        a2 = sigmoid(z2) # (80x1)\n",
    "        z3 = w3.dot(a2)+b3 # (10x80) . (80x1) + (10x1) = (10x1)\n",
    "        a3 = softmax(z3) #(10x1)\n",
    "        \n",
    "        \n",
    "        total_loss += cross_entropy_loss(a3, Y)\n",
    "\n",
    "\n",
    "        #back propagation\n",
    "        g_loss_z3 = a3-Y # (10x1) - (10x1) = (10x1)\n",
    "        g_loss_w3 = g_loss_z3.dot(a2.T) # (10x1) . (1x80) = (10x80) \n",
    "        g_loss_b3 = g_loss_z3 #(10x1)\n",
    "\n",
    "\n",
    "        g_loss_z2 = w3.T.dot(g_loss_z3) * sigmoid_derivative(z2) # ((80x10) . (10x1)) * (80x1) = 80x1\n",
    "        g_loss_w2 = g_loss_z2.dot(a1.T) # (80x1) . (1x200) = (80x200) \n",
    "        g_loss_b2 = g_loss_z2\n",
    "        \n",
    "        g_loss_z1 = w2.T.dot(g_loss_z2) * sigmoid_derivative(z1) # (200x80) . (80x1) * (200x1) = (200x1)\n",
    "        g_loss_w1 = g_loss_z1.dot(X.T) # (200x1) . (1x784) = (200x784)\n",
    "        g_loss_b1 = g_loss_z1\n",
    "        # (200x784)\n",
    "\n",
    "\n",
    "        w1 = w1 - learning_rate*g_loss_w1\n",
    "        b1 = b1 - learning_rate*g_loss_b1\n",
    "        w2 = w2 - learning_rate*g_loss_w2\n",
    "        b2 = b2 - learning_rate*g_loss_b2\n",
    "        w3 = w3 - learning_rate*g_loss_w3\n",
    "        b3 = b3 - learning_rate*g_loss_b3\n",
    "\n",
    "    \n",
    "    \n",
    "     \n",
    "    avg_loss = total_loss / len(train_input) \n",
    "    print(f\"Epoch {j}, Loss: {avg_loss}\")\n",
    "\n",
    "    \n",
    "\n",
    "\n",
    "\n",
    "\n",
    "\n",
    "\n",
    "\n",
    "\n"
   ]
  },
  {
   "cell_type": "code",
   "execution_count": 23,
   "id": "3d3d7ae5",
   "metadata": {},
   "outputs": [],
   "source": [
    "\n",
    "\n",
    "\n",
    "def prediction(X, w1, b1, w2, b2, w3, b3):\n",
    "    X = X.reshape(784,1) #(784x1)\n",
    "    \n",
    "    z1 = w1.dot(X)+b1; # ((200x784) . (784x1)) + (200x1) = (200x1)   \n",
    "    a1 = sigmoid(z1) # (200x1)\n",
    "    z2 = w2.dot(a1)+b2 # (80x200) . (200x1) + (80x1) = (80x1)\n",
    "    a2 = sigmoid(z2) # (80x1)\n",
    "    z3 = w3.dot(a2)+b3 # (10x80) . (80x1) + (10x1) = (10x1)\n",
    "    a3 = softmax(z3) #(10x1)\n",
    "    return a3\n",
    "\n",
    "\n",
    "\n",
    "def show_image(image):\n",
    "    sample_image = image.reshape(28, 28)\n",
    "    plt.imshow(sample_image, cmap='gray')\n",
    "    plt.show()\n",
    "\n",
    "\n",
    "\n",
    "def test_model(image):\n",
    "    show_image(image)\n",
    "    p = prediction(image, w1, b1, w2, b2, w3, b3)\n",
    "    print(p.argmax())\n",
    "\n",
    "\n",
    "\n",
    "\n",
    "\n"
   ]
  },
  {
   "cell_type": "code",
   "execution_count": 24,
   "id": "cb43534c",
   "metadata": {},
   "outputs": [
    {
     "data": {
      "image/png": "[encoded data removed]",
      "text/plain": [
       "<Figure size 640x480 with 1 Axes>"
      ]
     },
     "metadata": {},
     "output_type": "display_data"
    },
    {
     "name": "stdout",
     "output_type": "stream",
     "text": [
      "8\n"
     ]
    }
   ],
   "source": [
    "test_model(test_input[22])"
   ]
  },
  {
   "cell_type": "code",
   "execution_count": 26,
   "id": "ee39fc83",
   "metadata": {},
   "outputs": [],
   "source": [
    "\n",
    "\n",
    "def predict_digit_from_image(image_path):\n",
    "\n",
    "    img = Image.open(image_path)\n",
    "    img = img.convert('L')  # Convert to grayscale\n",
    "    img = img.resize((28, 28))  # Resize to 28x28 pixels\n",
    "    img_array = np.array(img)\n",
    "    img_array = img_array / 255.0\n",
    "    img_array = np.reshape(img_array, (1, 28, 28))\n",
    "    p = prediction(img_array, w1, b1, w2, b2, w3, b3)### /!\\ atention à la normalisation en divisant par 255\n",
    "    return p.argmax()"
   ]
  }
 ],
 "metadata": {
  "kernelspec": {
   "display_name": "Python 3",
   "language": "python",
   "name": "python3"
  },
  "language_info": {
   "codemirror_mode": {
    "name": "ipython",
    "version": 3
   },
   "file_extension": ".py",
   "mimetype": "text/x-python",
   "name": "python",
   "nbconvert_exporter": "python",
   "pygments_lexer": "ipython3",
   "version": "3.12.7"
  }
 },
 "nbformat": 4,
 "nbformat_minor": 5
}
